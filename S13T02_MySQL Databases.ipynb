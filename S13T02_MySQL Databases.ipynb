{
 "cells": [
  {
   "cell_type": "code",
   "execution_count": 1,
   "id": "55552b9b",
   "metadata": {},
   "outputs": [],
   "source": [
    "#installed libraries and software:\n",
    "#pip install mysql-connector-python\n",
    "#we need to install MySQL on the PC (https://dev.mysql.com/downloads/installer/)"
   ]
  },
  {
   "cell_type": "code",
   "execution_count": 2,
   "id": "a5419063",
   "metadata": {},
   "outputs": [],
   "source": [
    "#importing python libraries and modules\n",
    "\n",
    "#libraries & modules\n",
    "import numpy as np #library for scientific computing\n",
    "import pandas as pd #library for dataframes \n",
    "import matplotlib.pyplot as plt #graphic library\n",
    "import seaborn as sns #advanced graphic library based on matplotlib\n",
    "import warnings #library to manage warnings\n",
    "import mysql.connector\n",
    "\n",
    "warnings.filterwarnings('ignore')"
   ]
  },
  {
   "cell_type": "markdown",
   "id": "278138da",
   "metadata": {},
   "source": [
    "### Exercici 1 (Nivell 1)\n",
    "#### Crea una base de dades relacionals senzilla utilitzant MySQL(https://www.mysql.com/) i connecta-la a Python."
   ]
  },
  {
   "cell_type": "code",
   "execution_count": 3,
   "id": "8ba1fc55",
   "metadata": {},
   "outputs": [],
   "source": [
    "#creating connection to MySQL\n",
    "mydb = mysql.connector.connect(host=\"localhost\", user=\"daniel\", password=\"password\")"
   ]
  },
  {
   "cell_type": "code",
   "execution_count": 4,
   "id": "6c04d10f",
   "metadata": {},
   "outputs": [],
   "source": [
    "#creating a database\n",
    "mycursor = mydb.cursor()\n",
    "\n",
    "#it removes the old database and data to create an empty new one (for practice reasons)\n",
    "sql1 = \"DROP DATABASE IF EXISTS mymusicdb\"\n",
    "mycursor.execute(sql1)\n",
    "\n",
    "#if creates a database \n",
    "mycursor.execute(\"CREATE DATABASE mymusicdb\")"
   ]
  },
  {
   "cell_type": "code",
   "execution_count": 5,
   "id": "4260be89",
   "metadata": {},
   "outputs": [
    {
     "name": "stdout",
     "output_type": "stream",
     "text": [
      "('information_schema',)\n",
      "('mymusicdb',)\n",
      "('mysql',)\n",
      "('performance_schema',)\n",
      "('sakila',)\n",
      "('sys',)\n",
      "('world',)\n"
     ]
    }
   ],
   "source": [
    "#checking if the database exists\n",
    "mycursor.execute(\"SHOW DATABASES\")\n",
    "\n",
    "for x in mycursor:\n",
    "    print(x)"
   ]
  },
  {
   "cell_type": "code",
   "execution_count": 6,
   "id": "fbe818cb",
   "metadata": {},
   "outputs": [],
   "source": [
    "#connecting to the database we created\n",
    "mydb = mysql.connector.connect(host=\"localhost\", user=\"daniel\", password=\"password\", database='mymusicdb')"
   ]
  },
  {
   "cell_type": "code",
   "execution_count": 7,
   "id": "3130d685",
   "metadata": {},
   "outputs": [
    {
     "name": "stdout",
     "output_type": "stream",
     "text": [
      "('album',)\n",
      "('composer',)\n",
      "('genre',)\n"
     ]
    }
   ],
   "source": [
    "#creating tables\n",
    "mycursor = mydb.cursor()\n",
    "\n",
    "#table with info about composers\n",
    "sql2 = \"\"\"\n",
    "CREATE TABLE IF NOT EXISTS composer\n",
    "(composerID INT NOT NULL AUTO_INCREMENT,\n",
    "name VARCHAR(255), firstRelease INT,  PRIMARY KEY (composerID))\n",
    "\"\"\"\n",
    "\n",
    "#table with music genres\n",
    "sql3 = \"\"\"\n",
    "CREATE TABLE IF NOT EXISTS genre\n",
    "(genreID INT NOT NULL AUTO_INCREMENT, \n",
    "name VARCHAR(255),  PRIMARY KEY (genreID))\n",
    "\"\"\"\n",
    "\n",
    "#table with albums info\n",
    "sql4 = \"\"\"\n",
    "CREATE TABLE IF NOT EXISTS album\n",
    "(albumID INT NOT NULL AUTO_INCREMENT , title VARCHAR(255), year INT, \n",
    "PRIMARY KEY (albumID),\n",
    "rating INT,\n",
    "genreID INT,\n",
    "FOREIGN KEY (genreID) REFERENCES genre(genreID),\n",
    "composerID INT,\n",
    "FOREIGN KEY (composerID) REFERENCES composer(composerID))\n",
    "\"\"\"\n",
    "\n",
    "mycursor.execute(sql2)\n",
    "mycursor.execute(sql3)\n",
    "mycursor.execute(sql4)\n",
    "\n",
    "mycursor.execute('SHOW TABLES')\n",
    "\n",
    "for x in mycursor:\n",
    "    print(x)"
   ]
  },
  {
   "cell_type": "code",
   "execution_count": 8,
   "id": "af2d199f",
   "metadata": {},
   "outputs": [
    {
     "name": "stdout",
     "output_type": "stream",
     "text": [
      "1 record inserted.\n"
     ]
    }
   ],
   "source": [
    "#inserting values into table composer\n",
    "sql5 = \"INSERT INTO composer (name, firstRelease) VALUES (%s, %s)\"\n",
    "data1 = [('Kitaro', 1978),('Air', 1998), ('Kiko veneno', 1981),('Ennio Morricone', 1955)]\n",
    "\n",
    "for x in data1:\n",
    "    mycursor.execute(sql5, x)\n",
    "\n",
    "mydb.commit()\n",
    "\n",
    "print(mycursor.rowcount, \"record inserted.\")"
   ]
  },
  {
   "cell_type": "code",
   "execution_count": 9,
   "id": "6c1b4f3f",
   "metadata": {},
   "outputs": [
    {
     "name": "stdout",
     "output_type": "stream",
     "text": [
      "1 record inserted.\n"
     ]
    }
   ],
   "source": [
    "#inserting values into table genre\n",
    "sql6 = \"INSERT INTO genre (name) VALUES (%s)\"\n",
    "data2 = [[\"electronic\"],[\"new age\"],['soundtrack'],['pop']]\n",
    "\n",
    "\n",
    "for x in data2:\n",
    "    mycursor.execute(sql6, x)\n",
    "\n",
    "mydb.commit()\n",
    "\n",
    "print(mycursor.rowcount, \"record inserted.\")"
   ]
  },
  {
   "cell_type": "code",
   "execution_count": 10,
   "id": "b789aee2",
   "metadata": {},
   "outputs": [
    {
     "name": "stdout",
     "output_type": "stream",
     "text": [
      "1 record inserted.\n"
     ]
    }
   ],
   "source": [
    "#inserting values into table album\n",
    "sql7 = \"INSERT INTO album (title, year, rating, genreID, composerID) VALUES (%s, %s, %s, %s, %s)\"\n",
    "data3 = [('Full moon story', 1979, 3, 2, 1),\n",
    " ('Échate un cantecito', 1992, 4, 4, 3),\n",
    " ('Moon Safari',2001, 5, 1, 2),\n",
    " ('Cinema Paradiso',1980, 3, 3, 4),\n",
    " ('Talkie Walkie',2003, 3, 1, 2),\n",
    " ('The Mission',1986, 5, 3, 4)]\n",
    "\n",
    "\n",
    "for x in data3:\n",
    "    mycursor.execute(sql7, x)\n",
    "\n",
    "mydb.commit()\n",
    "\n",
    "print(mycursor.rowcount, \"record inserted.\")\n"
   ]
  },
  {
   "cell_type": "code",
   "execution_count": 11,
   "id": "10e1e291",
   "metadata": {},
   "outputs": [
    {
     "name": "stdout",
     "output_type": "stream",
     "text": [
      "(1, 'Kitaro', 1978)\n",
      "(2, 'Air', 1998)\n",
      "(3, 'Kiko veneno', 1981)\n",
      "(4, 'Ennio Morricone', 1955)\n"
     ]
    }
   ],
   "source": [
    "#displaying data\n",
    "sql = \"SELECT * FROM composer\"\n",
    "mycursor.execute(sql)\n",
    "composers = mycursor.fetchall()\n",
    "\n",
    "for x in composers:\n",
    "    print(x)\n"
   ]
  },
  {
   "cell_type": "code",
   "execution_count": 12,
   "id": "b0e75351",
   "metadata": {},
   "outputs": [
    {
     "name": "stdout",
     "output_type": "stream",
     "text": [
      "(1, 'electronic')\n",
      "(2, 'new age')\n",
      "(3, 'soundtrack')\n",
      "(4, 'pop')\n"
     ]
    }
   ],
   "source": [
    "#displaying data\n",
    "sql = \"SELECT * FROM genre\"\n",
    "mycursor.execute(sql)\n",
    "genres = mycursor.fetchall()\n",
    "\n",
    "for x in genres:\n",
    "    print(x)"
   ]
  },
  {
   "cell_type": "code",
   "execution_count": 13,
   "id": "313c5052",
   "metadata": {},
   "outputs": [
    {
     "name": "stdout",
     "output_type": "stream",
     "text": [
      "(1, 'Full moon story', 1979, 3, 2, 1)\n",
      "(2, 'Échate un cantecito', 1992, 4, 4, 3)\n",
      "(3, 'Moon Safari', 2001, 5, 1, 2)\n",
      "(4, 'Cinema Paradiso', 1980, 3, 3, 4)\n",
      "(5, 'Talkie Walkie', 2003, 3, 1, 2)\n",
      "(6, 'The Mission', 1986, 5, 3, 4)\n"
     ]
    }
   ],
   "source": [
    "#displaying data\n",
    "sql = \"SELECT * FROM album\"\n",
    "mycursor.execute(sql)\n",
    "albums = mycursor.fetchall()\n",
    "\n",
    "for x in albums:\n",
    "    print(x)"
   ]
  },
  {
   "cell_type": "markdown",
   "id": "b8e7e174",
   "metadata": {},
   "source": [
    "### Exercici 2 (Nivell 2)\n",
    "#### Mostra que pots carregar algunes consultes senzilles a un Pandas Dataframe."
   ]
  },
  {
   "cell_type": "code",
   "execution_count": 14,
   "id": "d00aa3dd",
   "metadata": {},
   "outputs": [
    {
     "name": "stdout",
     "output_type": "stream",
     "text": [
      "(3, 'Moon Safari', 2001, 5, 'electronic', 'Air', 1998)\n",
      "(5, 'Talkie Walkie', 2003, 3, 'electronic', 'Air', 1998)\n",
      "(1, 'Full moon story', 1979, 3, 'new age', 'Kitaro', 1978)\n",
      "(4, 'Cinema Paradiso', 1980, 3, 'soundtrack', 'Ennio Morricone', 1955)\n",
      "(6, 'The Mission', 1986, 5, 'soundtrack', 'Ennio Morricone', 1955)\n",
      "(2, 'Échate un cantecito', 1992, 4, 'pop', 'Kiko veneno', 1981)\n"
     ]
    }
   ],
   "source": [
    "#it shows info about album, genre and composer joining tables\n",
    "sql6 = \"\"\"\n",
    "SELECT album.albumID, album.title, album.year, album.rating,\n",
    "genre.name, composer.name, composer.firstRelease\n",
    "FROM album\n",
    "INNER JOIN genre \n",
    "ON album.genreID = genre.genreID\n",
    "INNER JOIN composer\n",
    "ON album.composerID = composer.composerID\n",
    "\"\"\"\n",
    "\n",
    "mycursor.execute(sql6)\n",
    "musiclibrary = mycursor.fetchall()\n",
    "\n",
    "for x in musiclibrary:\n",
    "    print(x)"
   ]
  },
  {
   "cell_type": "code",
   "execution_count": 15,
   "id": "f46f14d1",
   "metadata": {},
   "outputs": [
    {
     "data": {
      "text/html": [
       "<div>\n",
       "<style scoped>\n",
       "    .dataframe tbody tr th:only-of-type {\n",
       "        vertical-align: middle;\n",
       "    }\n",
       "\n",
       "    .dataframe tbody tr th {\n",
       "        vertical-align: top;\n",
       "    }\n",
       "\n",
       "    .dataframe thead th {\n",
       "        text-align: right;\n",
       "    }\n",
       "</style>\n",
       "<table border=\"1\" class=\"dataframe\">\n",
       "  <thead>\n",
       "    <tr style=\"text-align: right;\">\n",
       "      <th></th>\n",
       "      <th>Album ID</th>\n",
       "      <th>Title</th>\n",
       "      <th>Year</th>\n",
       "      <th>Rating</th>\n",
       "      <th>Genre</th>\n",
       "      <th>Composer</th>\n",
       "      <th>First Release</th>\n",
       "    </tr>\n",
       "  </thead>\n",
       "  <tbody>\n",
       "    <tr>\n",
       "      <th>0</th>\n",
       "      <td>3</td>\n",
       "      <td>Moon Safari</td>\n",
       "      <td>2001</td>\n",
       "      <td>5</td>\n",
       "      <td>electronic</td>\n",
       "      <td>Air</td>\n",
       "      <td>1998</td>\n",
       "    </tr>\n",
       "    <tr>\n",
       "      <th>1</th>\n",
       "      <td>5</td>\n",
       "      <td>Talkie Walkie</td>\n",
       "      <td>2003</td>\n",
       "      <td>3</td>\n",
       "      <td>electronic</td>\n",
       "      <td>Air</td>\n",
       "      <td>1998</td>\n",
       "    </tr>\n",
       "    <tr>\n",
       "      <th>2</th>\n",
       "      <td>1</td>\n",
       "      <td>Full moon story</td>\n",
       "      <td>1979</td>\n",
       "      <td>3</td>\n",
       "      <td>new age</td>\n",
       "      <td>Kitaro</td>\n",
       "      <td>1978</td>\n",
       "    </tr>\n",
       "    <tr>\n",
       "      <th>3</th>\n",
       "      <td>4</td>\n",
       "      <td>Cinema Paradiso</td>\n",
       "      <td>1980</td>\n",
       "      <td>3</td>\n",
       "      <td>soundtrack</td>\n",
       "      <td>Ennio Morricone</td>\n",
       "      <td>1955</td>\n",
       "    </tr>\n",
       "    <tr>\n",
       "      <th>4</th>\n",
       "      <td>6</td>\n",
       "      <td>The Mission</td>\n",
       "      <td>1986</td>\n",
       "      <td>5</td>\n",
       "      <td>soundtrack</td>\n",
       "      <td>Ennio Morricone</td>\n",
       "      <td>1955</td>\n",
       "    </tr>\n",
       "    <tr>\n",
       "      <th>5</th>\n",
       "      <td>2</td>\n",
       "      <td>Échate un cantecito</td>\n",
       "      <td>1992</td>\n",
       "      <td>4</td>\n",
       "      <td>pop</td>\n",
       "      <td>Kiko veneno</td>\n",
       "      <td>1981</td>\n",
       "    </tr>\n",
       "  </tbody>\n",
       "</table>\n",
       "</div>"
      ],
      "text/plain": [
       "   Album ID                Title  Year  Rating       Genre         Composer  \\\n",
       "0         3          Moon Safari  2001       5  electronic              Air   \n",
       "1         5        Talkie Walkie  2003       3  electronic              Air   \n",
       "2         1      Full moon story  1979       3     new age           Kitaro   \n",
       "3         4      Cinema Paradiso  1980       3  soundtrack  Ennio Morricone   \n",
       "4         6          The Mission  1986       5  soundtrack  Ennio Morricone   \n",
       "5         2  Échate un cantecito  1992       4         pop      Kiko veneno   \n",
       "\n",
       "   First Release  \n",
       "0           1998  \n",
       "1           1998  \n",
       "2           1978  \n",
       "3           1955  \n",
       "4           1955  \n",
       "5           1981  "
      ]
     },
     "execution_count": 15,
     "metadata": {},
     "output_type": "execute_result"
    }
   ],
   "source": [
    "#it inserts data in a dataframe\n",
    "columns = ['Album ID', 'Title', 'Year', 'Rating', 'Genre', 'Composer','First Release']\n",
    "df_musiclibrary = pd.DataFrame(data= musiclibrary, columns=columns)\n",
    "df_musiclibrary"
   ]
  },
  {
   "cell_type": "code",
   "execution_count": 16,
   "id": "63b880e7",
   "metadata": {},
   "outputs": [
    {
     "data": {
      "text/plain": [
       "True"
      ]
     },
     "execution_count": 16,
     "metadata": {},
     "output_type": "execute_result"
    }
   ],
   "source": [
    "mycursor.close()"
   ]
  },
  {
   "cell_type": "markdown",
   "id": "09ba5f0a",
   "metadata": {},
   "source": [
    "### Exercici 3 (Nivell 3)\n",
    "#### Genera algun gràfic que resumeixi les dades. "
   ]
  },
  {
   "cell_type": "code",
   "execution_count": 17,
   "id": "2b5fb4b7",
   "metadata": {},
   "outputs": [
    {
     "data": {
      "image/png": "[encoded data removed]",
      "text/plain": [
       "<Figure size 720x720 with 1 Axes>"
      ]
     },
     "metadata": {
      "needs_background": "light"
     },
     "output_type": "display_data"
    }
   ],
   "source": [
    "ax = plt.subplots(figsize=(10,10))\n",
    "ax = sns.histplot(data=df_musiclibrary, x=\"Composer\", stat=\"count\")\n",
    "ax.set_title(\"Works per Composer\", fontsize=15)\n",
    "ax.set_xlabel('Composer', fontsize=15) \n",
    "ax.set_ylabel('Number of Works', fontsize=15)\n",
    "plt.show()"
   ]
  },
  {
   "cell_type": "code",
   "execution_count": 18,
   "id": "1b3ec904",
   "metadata": {},
   "outputs": [
    {
     "data": {
      "image/png": "[encoded data removed]",
      "text/plain": [
       "<Figure size 720x720 with 1 Axes>"
      ]
     },
     "metadata": {
      "needs_background": "light"
     },
     "output_type": "display_data"
    }
   ],
   "source": [
    "ax = plt.subplots(figsize=(10,10))\n",
    "ax = sns.histplot(data=df_musiclibrary, x='Year', hue='Genre', multiple='stack',binwidth=1, binrange=(1970,2010))\n",
    "plt.show()"
   ]
  },
  {
   "cell_type": "code",
   "execution_count": 19,
   "id": "f8beffe8",
   "metadata": {},
   "outputs": [
    {
     "data": {
      "image/png": "[encoded data removed]",
      "text/plain": [
       "<Figure size 720x720 with 1 Axes>"
      ]
     },
     "metadata": {
      "needs_background": "light"
     },
     "output_type": "display_data"
    }
   ],
   "source": [
    "ax = plt.subplots(figsize=(10,10))\n",
    "ax = sns.scatterplot(data=df_musiclibrary, x=\"Year\", y=\"Composer\", hue='Genre')\n",
    "ax.set_xlabel('Year', fontsize=15) \n",
    "ax.set_ylabel('Composer', fontsize=15)\n",
    "plt.xticks(rotation=45)\n",
    "plt.show()"
   ]
  }
 ],
 "metadata": {
  "kernelspec": {
   "display_name": "Python 3 (ipykernel)",
   "language": "python",
   "name": "python3"
  },
  "language_info": {
   "codemirror_mode": {
    "name": "ipython",
    "version": 3
   },
   "file_extension": ".py",
   "mimetype": "text/x-python",
   "name": "python",
   "nbconvert_exporter": "python",
   "pygments_lexer": "ipython3",
   "version": "3.9.7"
  }
 },
 "nbformat": 4,
 "nbformat_minor": 5
}
